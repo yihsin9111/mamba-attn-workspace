{
 "cells": [
  {
   "cell_type": "code",
   "execution_count": 1,
   "metadata": {},
   "outputs": [],
   "source": [
    "import os\n",
    "os.environ[\"CUDA_VISIBLE_DEVICES\"]=\"3\"\n",
    "os.environ[\"CUDA_LAUNCH_BLOCKING\"]='1'"
   ]
  },
  {
   "cell_type": "code",
   "execution_count": 2,
   "metadata": {},
   "outputs": [],
   "source": [
    "#import torch\n",
    "from mamba_ssm.modules.mamba_simple import Mamba"
   ]
  },
  {
   "cell_type": "code",
   "execution_count": 3,
   "metadata": {},
   "outputs": [],
   "source": [
    "block = Mamba(d_model=2560).to(\"cuda\")"
   ]
  },
  {
   "cell_type": "code",
   "execution_count": 4,
   "metadata": {},
   "outputs": [
    {
     "name": "stdout",
     "output_type": "stream",
     "text": [
      "Mamba(\n",
      "  (in_proj): Linear(in_features=2560, out_features=10240, bias=False)\n",
      "  (conv1d): Conv1d(5120, 5120, kernel_size=(4,), stride=(1,), padding=(3,), groups=5120)\n",
      "  (act): SiLU()\n",
      "  (x_proj): Linear(in_features=5120, out_features=192, bias=False)\n",
      "  (dt_proj): Linear(in_features=160, out_features=5120, bias=True)\n",
      "  (out_proj): Linear(in_features=5120, out_features=2560, bias=False)\n",
      ")\n"
     ]
    }
   ],
   "source": [
    "print(block)"
   ]
  },
  {
   "cell_type": "code",
   "execution_count": 5,
   "metadata": {},
   "outputs": [],
   "source": [
    "import torch"
   ]
  },
  {
   "cell_type": "code",
   "execution_count": 6,
   "metadata": {},
   "outputs": [],
   "source": [
    "# each mamba block is of input & output feature dimension 2560\n",
    "B, S, D = 1, 32, 2560  # Example: Batch=1, Sequence Length=32, Features=2560\n",
    "input_tensor = torch.randn(B, S, D).to(\"cuda\")"
   ]
  },
  {
   "cell_type": "code",
   "execution_count": 7,
   "metadata": {},
   "outputs": [],
   "source": [
    "# inference of block takes longer than whole model? (at first)"
   ]
  },
  {
   "cell_type": "code",
   "execution_count": 8,
   "metadata": {},
   "outputs": [
    {
     "name": "stdout",
     "output_type": "stream",
     "text": [
      "input to original 'compute_attn_matrix'\n",
      "delta: (<class 'torch.Tensor'>, torch.Size([1, 5120, 32]))\n",
      "delta_bias: (<class 'torch.nn.parameter.Parameter'>, torch.Size([5120]))\n",
      "A: (<class 'torch.Tensor'>, torch.Size([5120, 16]))\n",
      "B: (<class 'torch.Tensor'>, torch.Size([1, 1, 16, 32]))\n",
      "C: (<class 'torch.Tensor'>, torch.Size([1, 1, 16, 32]))\n",
      "L: (<class 'int'>, 32)\n",
      "x.shape: (<class 'torch.Tensor'>, torch.Size([1, 5120, 32]))\n",
      "dt: (<class 'torch.Tensor'>, torch.Size([1, 5120, 32]))\n",
      "attn_mat_fin: (<class 'torch.Tensor'>, torch.Size([1, 5120, 32, 32]))\n"
     ]
    },
    {
     "data": {
      "text/plain": [
       "torch.Size([1, 32, 2560])"
      ]
     },
     "execution_count": 8,
     "metadata": {},
     "output_type": "execute_result"
    }
   ],
   "source": [
    "block(input_tensor).shape"
   ]
  }
 ],
 "metadata": {
  "kernelspec": {
   "display_name": "imb",
   "language": "python",
   "name": "python3"
  },
  "language_info": {
   "codemirror_mode": {
    "name": "ipython",
    "version": 3
   },
   "file_extension": ".py",
   "mimetype": "text/x-python",
   "name": "python",
   "nbconvert_exporter": "python",
   "pygments_lexer": "ipython3",
   "version": "3.10.15"
  }
 },
 "nbformat": 4,
 "nbformat_minor": 2
}
