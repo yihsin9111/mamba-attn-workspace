{
 "cells": [
  {
   "cell_type": "code",
   "execution_count": 1,
   "metadata": {},
   "outputs": [],
   "source": [
    "import os\n",
    "os.environ[\"CUDA_VISIBLE_DEVICES\"]=\"3\"\n",
    "os.environ[\"CUDA_LAUNCH_BLOCKING\"]='1'"
   ]
  },
  {
   "cell_type": "code",
   "execution_count": 2,
   "metadata": {},
   "outputs": [],
   "source": [
    "import torch\n",
    "from mamba_ssm.modules.mamba2 import Mamba2"
   ]
  },
  {
   "cell_type": "code",
   "execution_count": 8,
   "metadata": {},
   "outputs": [],
   "source": [
    "block = Mamba2(d_model=2560).to(\"cuda\")"
   ]
  },
  {
   "cell_type": "code",
   "execution_count": 15,
   "metadata": {},
   "outputs": [],
   "source": [
    "# each mamba block is of input & output feature dimension 2560\n",
    "B, S, D = 1, 32, 2560  # Example: Batch=1, Sequence Length=32, Features=2560\n",
    "input_tensor = torch.randn(B, S, D).to(\"cuda\")"
   ]
  },
  {
   "cell_type": "code",
   "execution_count": 13,
   "metadata": {},
   "outputs": [],
   "source": [
    "# inference of block takes longer than whole model? (at first)"
   ]
  },
  {
   "cell_type": "code",
   "execution_count": 16,
   "metadata": {},
   "outputs": [
    {
     "data": {
      "text/plain": [
       "tensor([[[-0.6189,  0.3542,  0.7232,  ...,  0.3201,  0.3593,  0.6398],\n",
       "         [-0.8701, -0.2612, -0.4420,  ...,  0.6362, -0.0694,  1.1255],\n",
       "         [-1.0971, -0.4588, -0.8995,  ..., -0.2010,  0.9416,  0.7064],\n",
       "         ...,\n",
       "         [ 0.6305, -0.3672,  0.1891,  ..., -0.6868, -0.1708, -0.0717],\n",
       "         [-0.1990, -0.6889,  0.9226,  ..., -0.8010, -0.3012,  0.8873],\n",
       "         [-0.0841,  0.1295,  0.3318,  ...,  0.2869,  0.0088,  0.1583]]],\n",
       "       device='cuda:0', grad_fn=<MambaSplitConv1dScanCombinedFnBackward>)"
      ]
     },
     "execution_count": 16,
     "metadata": {},
     "output_type": "execute_result"
    }
   ],
   "source": [
    "block(input_tensor)"
   ]
  }
 ],
 "metadata": {
  "kernelspec": {
   "display_name": "imb",
   "language": "python",
   "name": "python3"
  },
  "language_info": {
   "codemirror_mode": {
    "name": "ipython",
    "version": 3
   },
   "file_extension": ".py",
   "mimetype": "text/x-python",
   "name": "python",
   "nbconvert_exporter": "python",
   "pygments_lexer": "ipython3",
   "version": "3.10.15"
  }
 },
 "nbformat": 4,
 "nbformat_minor": 2
}
