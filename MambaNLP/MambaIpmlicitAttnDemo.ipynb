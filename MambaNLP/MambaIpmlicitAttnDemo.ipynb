{
 "cells": [
  {
   "cell_type": "code",
   "execution_count": 1,
   "metadata": {},
   "outputs": [],
   "source": [
    "import os\n",
    "os.environ[\"CUDA_VISIBLE_DEVICES\"]=\"0\"\n",
    "os.environ[\"CUDA_LAUNCH_BLOCKING\"]='1'"
   ]
  },
  {
   "cell_type": "code",
   "execution_count": 2,
   "metadata": {},
   "outputs": [
    {
     "name": "stderr",
     "output_type": "stream",
     "text": [
      "2025-02-09 04:26:35.463846: I tensorflow/core/util/util.cc:169] oneDNN custom operations are on. You may see slightly different numerical results due to floating-point round-off errors from different computation orders. To turn them off, set the environment variable `TF_ENABLE_ONEDNN_OPTS=0`.\n",
      "WARNING:root:Limited tf.compat.v2.summary API due to missing TensorBoard installation.\n",
      "WARNING:root:Limited tf.compat.v2.summary API due to missing TensorBoard installation.\n",
      "WARNING:root:Limited tf.compat.v2.summary API due to missing TensorBoard installation.\n",
      "WARNING:root:Limited tf.summary API due to missing TensorBoard installation.\n",
      "WARNING:root:Limited tf.compat.v2.summary API due to missing TensorBoard installation.\n",
      "WARNING:root:Limited tf.compat.v2.summary API due to missing TensorBoard installation.\n",
      "WARNING:root:Limited tf.compat.v2.summary API due to missing TensorBoard installation.\n"
     ]
    }
   ],
   "source": [
    "import torch\n",
    "import transformers\n",
    "from transformers import AutoTokenizer\n",
    "from mamba_ssm.models.mixer_seq_simple import MambaLMHeadModel\n",
    "from lm_eval.models.huggingface import HFLM\n",
    "from lm_eval.api.model import LM\n",
    "from lm_eval.api.registry import register_model\n",
    "import matplotlib.pyplot as plt\n",
    "def normalize_attn_mat(attn_mat):\n",
    "    return (attn_mat - torch.min(attn_mat)) / (torch.max(attn_mat) - torch.min(attn_mat))"
   ]
  },
  {
   "cell_type": "markdown",
   "metadata": {},
   "source": [
    "### Test model generation"
   ]
  },
  {
   "cell_type": "code",
   "execution_count": 2,
   "metadata": {},
   "outputs": [
    {
     "name": "stdout",
     "output_type": "stream",
     "text": [
      "initializa LMHead model new version 2024\n",
      "Once upon a time, a cat named Meow, and a bird named Flutterby, played together.\n",
      "\n",
      "Then one day Meow and Flutterby were very busy playing when a butterfly flew into Meow’s house. The butterfly came flying past Meow and Flutterby, but Meow didn’t see the butterfly, and she started chasing the butterfly with Flutterby in her paws.\n",
      "\n",
      "Me\n"
     ]
    }
   ],
   "source": [
    "import torch\n",
    "import os\n",
    "from transformers import AutoTokenizer\n",
    "from mamba_ssm.models.mixer_seq_simple import MambaLMHeadModel\n",
    "tokenizer = AutoTokenizer.from_pretrained(\"EleutherAI/gpt-neox-20b\")\n",
    "model = MambaLMHeadModel.from_pretrained(os.path.expanduser(\"state-spaces/mamba-2.8b\"), device=\"cuda\", dtype=torch.bfloat16)\n",
    "tokens = tokenizer(\"Once upon a time, a cat named\", return_tensors=\"pt\")\n",
    "input_ids = tokens.input_ids.to(device=\"cuda\")\n",
    "max_length = input_ids.shape[1] + 80\n",
    "fn = lambda: model.generate(\n",
    "        input_ids=input_ids, max_length=max_length, cg=True,\n",
    "        return_dict_in_generate=True, output_scores=True,\n",
    "        enable_timing=False, temperature=0.9, top_k=40, top_p=0.9,)\n",
    "out = fn()\n",
    "print(tokenizer.decode(out[0][0]))"
   ]
  },
  {
   "cell_type": "markdown",
   "metadata": {},
   "source": [
    "### Define and load a pretrained Mamba-based LLM:"
   ]
  },
  {
   "cell_type": "code",
   "execution_count": 3,
   "metadata": {},
   "outputs": [],
   "source": [
    "class MambaEvalWrapper(HFLM):\n",
    "    AUTO_MODEL_CLASS = transformers.AutoModelForCausalLM\n",
    "    def __init__(self, pretrained=\"state-spaces/mamba-2.8b\", max_length=2048, batch_size=None, device=\"cuda\",dtype=torch.float16):\n",
    "        LM.__init__(self)\n",
    "        self._model = MambaLMHeadModel.from_pretrained(pretrained, device=device, dtype=dtype)\n",
    "        self.tokenizer = AutoTokenizer.from_pretrained(\"EleutherAI/gpt-neox-20b\")\n",
    "        self.tokenizer.pad_token_id = self.tokenizer.eos_token_id\n",
    "        self.vocab_size = self.tokenizer.vocab_size\n",
    "        self._batch_size = int(batch_size) if batch_size is not None else 64\n",
    "        self._max_length = max_length\n",
    "        self._device = torch.device(device)"
   ]
  },
  {
   "cell_type": "code",
   "execution_count": 3,
   "metadata": {},
   "outputs": [],
   "source": [
    "class Mamba2EvalWrapper(HFLM):\n",
    "    AUTO_MODEL_CLASS = transformers.AutoModelForCausalLM\n",
    "    def __init__(self, pretrained=\"state-spaces/mamba2-2.7b\", max_length=2048, batch_size=None, device=\"cuda\",dtype=torch.float16):\n",
    "        LM.__init__(self)\n",
    "        print(\"initializing mamba2\")\n",
    "        self._model = MambaLMHeadModel.from_pretrained(pretrained, device=device, dtype=dtype)\n",
    "        self.tokenizer = AutoTokenizer.from_pretrained(\"EleutherAI/gpt-neox-20b\")\n",
    "        self.tokenizer.pad_token_id = self.tokenizer.eos_token_id\n",
    "        self.vocab_size = self.tokenizer.vocab_size\n",
    "        self._batch_size = int(batch_size) if batch_size is not None else 64\n",
    "        self._max_length = max_length\n",
    "        self._device = torch.device(device)"
   ]
  },
  {
   "cell_type": "code",
   "execution_count": 4,
   "metadata": {},
   "outputs": [
    {
     "name": "stdout",
     "output_type": "stream",
     "text": [
      "initializing mamba2\n",
      "initializa LMHead model new version 2024\n"
     ]
    }
   ],
   "source": [
    "model = Mamba2EvalWrapper()"
   ]
  },
  {
   "cell_type": "code",
   "execution_count": 17,
   "metadata": {},
   "outputs": [],
   "source": [
    "prompt = \"Alice was beginning to get very tired of sitting by her sister on the bank\"#, and of having nothing to do: once or twice she had peeped into the book her sister was reading, but it had no pictures or conversations in it, “and what is the use of a book,” thought Alice “without pictures or conversations?” So she was considering in her own mind (as well as she could, for the hot day made her feel very sleepy and stupid), whether the pleasure of making a daisy-chain would be worth the trouble of getting up and picking the daisies, when suddenly a White Rabbit with pink eyes\"# ran close by her. There was nothing so very remarkable in that; nor did Alice think it so very much out of the way to hear the Rabbit say to itself, “Oh dear! Oh dear! I shall be late!” (when she thought it over afterwards, it occurred to her that she ought to have wondered at this, but at the time it all seemed quite natural); but when the Rabbit actually took a watch out of its waistcoat-pocket, and looked at it, and then hurried on, Alice started to her feet, for it flashed across her mind that she had never before seen a rabbit with either a waistcoat-pocket, or a watch to take out of it, and burning with curiosity, she ran across the field after it, and fortunately was just in time to see it pop down a large rabbit-hole under the hedge. In another moment down went Alice after it, never once considering how in the world she was to get out again. The rabbit-hole went straight on like a tunnel for some way, and then dipped suddenly down, so suddenly that Alice had not a moment to think about stopping herself before she found herself falling down a very deep well. Either the well was very deep, or she fell very slowly, for she had plenty of time as she went down to look about her and to wonder what was going to happen next. First, she tried to look down and make out what she was coming to, but it was too dark to see anything; then she looked at the sides of the well, and noticed that they were filled with cupboards and book-shelves; here and there she saw maps and pictures hung upon pegs. She took down a jar from one of the shelves as she passed; it was labelled “ORANGE MARMALADE”, but to her great disappointment it was empty: she did not like to drop the jar for fear of killing somebody underneath, so managed to put it\""
   ]
  },
  {
   "cell_type": "code",
   "execution_count": 34,
   "metadata": {},
   "outputs": [],
   "source": [
    "prompt = \"sorry to bother, but this pie tastes so good\""
   ]
  },
  {
   "cell_type": "code",
   "execution_count": 8,
   "metadata": {},
   "outputs": [],
   "source": [
    "prompt = \"How are you today?\""
   ]
  },
  {
   "cell_type": "markdown",
   "metadata": {},
   "source": [
    "### Extraction of Mamba Attention Matrices:"
   ]
  },
  {
   "cell_type": "code",
   "execution_count": 13,
   "metadata": {},
   "outputs": [],
   "source": [
    "def query(prompt):\n",
    "    tokens = model.tokenizer(prompt, return_tensors=\"pt\")\n",
    "    input_ids = tokens.input_ids.to(device=\"cuda\")\n",
    "    max_length = input_ids.shape[1] + 10\n",
    "    fn = lambda: model._model.generate(\n",
    "        input_ids=input_ids, max_length=max_length, cg=True,\n",
    "        return_dict_in_generate=True, output_scores=True,\n",
    "        enable_timing=False, temperature=0.9, top_k=40, top_p=0.9,)\n",
    "    out = fn()\n",
    "    return model.tokenizer.decode(out[0][0])"
   ]
  },
  {
   "cell_type": "code",
   "execution_count": 14,
   "metadata": {},
   "outputs": [
    {
     "data": {
      "text/plain": [
       "'How are you today?\\n\\nI just wanted to let you know how'"
      ]
     },
     "execution_count": 14,
     "metadata": {},
     "output_type": "execute_result"
    }
   ],
   "source": [
    "query(prompt)"
   ]
  },
  {
   "cell_type": "code",
   "execution_count": 5,
   "metadata": {},
   "outputs": [],
   "source": [
    "def visualize_attn(prompt, selected_layers = [0, 15, 31, 47, 63]):\n",
    "    input_tensor = model.tokenizer(prompt, return_tensors=\"pt\")['input_ids'].cuda()\n",
    "    selected_chan = [1,2,3,4,5,6,7]\n",
    "    selected_layer = 8\n",
    "    model._model.backbone.layers[selected_layer].mixer.compute_attn_matrix = True\n",
    "    model._model = model._model.cuda()\n",
    "\n",
    "    out = model._model(input_tensor)\n",
    "    max_values, max_indices = torch.max(out.logits.detach(), dim=2)\n",
    "    out_list = list(max_indices.cpu().numpy())\n",
    "    word_output = model.tokenizer.decode(out_list[0])\n",
    "    print(f\"prompt: {prompt}\")\n",
    "    print(f\"output: {word_output}\")\n",
    "\n",
    "    # Number of matrices\n",
    "    num_matrices = len(selected_layers)\n",
    "    # Create a single row of subplots\n",
    "    fig, axes = plt.subplots(1, num_matrices, figsize=(15, 5))\n",
    "    \n",
    "    for i, layer in enumerate(selected_layers):\n",
    "        mat = model._model.backbone.layers[layer].mixer.attn_matrix\n",
    "        mat_avg = torch.einsum(\"bghls->ls\", mat)\n",
    "        matrix = mat_avg.cpu().detach().numpy()\n",
    "\n",
    "        #plotting\n",
    "        ax = axes[i]\n",
    "        im = ax.imshow(matrix, cmap='viridis', interpolation='nearest')\n",
    "        ax.set_title(f\"layer {layer}\")  # Set title for each subplot\n",
    "        # plt.colorbar(im, ax=ax)  # Add a colorbar to each subplot\n",
    "    \n",
    "    # Adjust spacing\n",
    "    plt.tight_layout()\n",
    "    plt.show()"
   ]
  },
  {
   "cell_type": "code",
   "execution_count": 6,
   "metadata": {},
   "outputs": [
    {
     "name": "stdout",
     "output_type": "stream",
     "text": [
      "x_shape: torch.Size([1, 10, 80, 64])\n",
      "[B,L,H,N]=(torch.Size([1, 10, 80]), 128)\n",
      "x_shape: torch.Size([1, 10, 80, 64])\n",
      "[B,L,H,N]=(torch.Size([1, 10, 80]), 128)\n",
      "x_shape: torch.Size([1, 10, 80, 64])\n",
      "[B,L,H,N]=(torch.Size([1, 10, 80]), 128)\n",
      "x_shape: torch.Size([1, 10, 80, 64])\n",
      "[B,L,H,N]=(torch.Size([1, 10, 80]), 128)\n",
      "x_shape: torch.Size([1, 10, 80, 64])\n",
      "[B,L,H,N]=(torch.Size([1, 10, 80]), 128)\n",
      "x_shape: torch.Size([1, 10, 80, 64])\n",
      "[B,L,H,N]=(torch.Size([1, 10, 80]), 128)\n",
      "x_shape: torch.Size([1, 10, 80, 64])\n",
      "[B,L,H,N]=(torch.Size([1, 10, 80]), 128)\n",
      "x_shape: torch.Size([1, 10, 80, 64])\n",
      "[B,L,H,N]=(torch.Size([1, 10, 80]), 128)\n",
      "x_shape: torch.Size([1, 10, 80, 64])\n",
      "[B,L,H,N]=(torch.Size([1, 10, 80]), 128)\n",
      "x_shape: torch.Size([1, 10, 80, 64])\n",
      "[B,L,H,N]=(torch.Size([1, 10, 80]), 128)\n",
      "x_shape: torch.Size([1, 10, 80, 64])\n",
      "[B,L,H,N]=(torch.Size([1, 10, 80]), 128)\n",
      "x_shape: torch.Size([1, 10, 80, 64])\n",
      "[B,L,H,N]=(torch.Size([1, 10, 80]), 128)\n",
      "x_shape: torch.Size([1, 10, 80, 64])\n",
      "[B,L,H,N]=(torch.Size([1, 10, 80]), 128)\n",
      "x_shape: torch.Size([1, 10, 80, 64])\n",
      "[B,L,H,N]=(torch.Size([1, 10, 80]), 128)\n",
      "x_shape: torch.Size([1, 10, 80, 64])\n",
      "[B,L,H,N]=(torch.Size([1, 10, 80]), 128)\n",
      "x_shape: torch.Size([1, 10, 80, 64])\n",
      "[B,L,H,N]=(torch.Size([1, 10, 80]), 128)\n",
      "x_shape: torch.Size([1, 10, 80, 64])\n",
      "[B,L,H,N]=(torch.Size([1, 10, 80]), 128)\n",
      "x_shape: torch.Size([1, 10, 80, 64])\n",
      "[B,L,H,N]=(torch.Size([1, 10, 80]), 128)\n",
      "x_shape: torch.Size([1, 10, 80, 64])\n",
      "[B,L,H,N]=(torch.Size([1, 10, 80]), 128)\n",
      "x_shape: torch.Size([1, 10, 80, 64])\n",
      "[B,L,H,N]=(torch.Size([1, 10, 80]), 128)\n",
      "x_shape: torch.Size([1, 10, 80, 64])\n",
      "[B,L,H,N]=(torch.Size([1, 10, 80]), 128)\n",
      "x_shape: torch.Size([1, 10, 80, 64])\n",
      "[B,L,H,N]=(torch.Size([1, 10, 80]), 128)\n",
      "x_shape: torch.Size([1, 10, 80, 64])\n",
      "[B,L,H,N]=(torch.Size([1, 10, 80]), 128)\n",
      "x_shape: torch.Size([1, 10, 80, 64])\n",
      "[B,L,H,N]=(torch.Size([1, 10, 80]), 128)\n",
      "x_shape: torch.Size([1, 10, 80, 64])\n",
      "[B,L,H,N]=(torch.Size([1, 10, 80]), 128)\n",
      "x_shape: torch.Size([1, 10, 80, 64])\n",
      "[B,L,H,N]=(torch.Size([1, 10, 80]), 128)\n",
      "x_shape: torch.Size([1, 10, 80, 64])\n",
      "[B,L,H,N]=(torch.Size([1, 10, 80]), 128)\n",
      "x_shape: torch.Size([1, 10, 80, 64])\n",
      "[B,L,H,N]=(torch.Size([1, 10, 80]), 128)\n",
      "x_shape: torch.Size([1, 10, 80, 64])\n",
      "[B,L,H,N]=(torch.Size([1, 10, 80]), 128)\n",
      "x_shape: torch.Size([1, 10, 80, 64])\n",
      "[B,L,H,N]=(torch.Size([1, 10, 80]), 128)\n",
      "x_shape: torch.Size([1, 10, 80, 64])\n",
      "[B,L,H,N]=(torch.Size([1, 10, 80]), 128)\n",
      "x_shape: torch.Size([1, 10, 80, 64])\n",
      "[B,L,H,N]=(torch.Size([1, 10, 80]), 128)\n",
      "x_shape: torch.Size([1, 10, 80, 64])\n",
      "[B,L,H,N]=(torch.Size([1, 10, 80]), 128)\n",
      "x_shape: torch.Size([1, 10, 80, 64])\n",
      "[B,L,H,N]=(torch.Size([1, 10, 80]), 128)\n",
      "x_shape: torch.Size([1, 10, 80, 64])\n",
      "[B,L,H,N]=(torch.Size([1, 10, 80]), 128)\n",
      "x_shape: torch.Size([1, 10, 80, 64])\n",
      "[B,L,H,N]=(torch.Size([1, 10, 80]), 128)\n",
      "x_shape: torch.Size([1, 10, 80, 64])\n",
      "[B,L,H,N]=(torch.Size([1, 10, 80]), 128)\n",
      "x_shape: torch.Size([1, 10, 80, 64])\n",
      "[B,L,H,N]=(torch.Size([1, 10, 80]), 128)\n",
      "x_shape: torch.Size([1, 10, 80, 64])\n",
      "[B,L,H,N]=(torch.Size([1, 10, 80]), 128)\n",
      "x_shape: torch.Size([1, 10, 80, 64])\n",
      "[B,L,H,N]=(torch.Size([1, 10, 80]), 128)\n",
      "x_shape: torch.Size([1, 10, 80, 64])\n",
      "[B,L,H,N]=(torch.Size([1, 10, 80]), 128)\n",
      "x_shape: torch.Size([1, 10, 80, 64])\n",
      "[B,L,H,N]=(torch.Size([1, 10, 80]), 128)\n",
      "x_shape: torch.Size([1, 10, 80, 64])\n",
      "[B,L,H,N]=(torch.Size([1, 10, 80]), 128)\n",
      "x_shape: torch.Size([1, 10, 80, 64])\n",
      "[B,L,H,N]=(torch.Size([1, 10, 80]), 128)\n",
      "x_shape: torch.Size([1, 10, 80, 64])\n",
      "[B,L,H,N]=(torch.Size([1, 10, 80]), 128)\n",
      "x_shape: torch.Size([1, 10, 80, 64])\n",
      "[B,L,H,N]=(torch.Size([1, 10, 80]), 128)\n",
      "x_shape: torch.Size([1, 10, 80, 64])\n",
      "[B,L,H,N]=(torch.Size([1, 10, 80]), 128)\n",
      "x_shape: torch.Size([1, 10, 80, 64])\n",
      "[B,L,H,N]=(torch.Size([1, 10, 80]), 128)\n",
      "x_shape: torch.Size([1, 10, 80, 64])\n",
      "[B,L,H,N]=(torch.Size([1, 10, 80]), 128)\n",
      "x_shape: torch.Size([1, 10, 80, 64])\n",
      "[B,L,H,N]=(torch.Size([1, 10, 80]), 128)\n",
      "x_shape: torch.Size([1, 10, 80, 64])\n",
      "[B,L,H,N]=(torch.Size([1, 10, 80]), 128)\n",
      "x_shape: torch.Size([1, 10, 80, 64])\n",
      "[B,L,H,N]=(torch.Size([1, 10, 80]), 128)\n",
      "x_shape: torch.Size([1, 10, 80, 64])\n",
      "[B,L,H,N]=(torch.Size([1, 10, 80]), 128)\n",
      "x_shape: torch.Size([1, 10, 80, 64])\n",
      "[B,L,H,N]=(torch.Size([1, 10, 80]), 128)\n",
      "x_shape: torch.Size([1, 10, 80, 64])\n",
      "[B,L,H,N]=(torch.Size([1, 10, 80]), 128)\n",
      "x_shape: torch.Size([1, 10, 80, 64])\n",
      "[B,L,H,N]=(torch.Size([1, 10, 80]), 128)\n",
      "x_shape: torch.Size([1, 10, 80, 64])\n",
      "[B,L,H,N]=(torch.Size([1, 10, 80]), 128)\n",
      "x_shape: torch.Size([1, 10, 80, 64])\n",
      "[B,L,H,N]=(torch.Size([1, 10, 80]), 128)\n",
      "x_shape: torch.Size([1, 10, 80, 64])\n",
      "[B,L,H,N]=(torch.Size([1, 10, 80]), 128)\n",
      "x_shape: torch.Size([1, 10, 80, 64])\n",
      "[B,L,H,N]=(torch.Size([1, 10, 80]), 128)\n",
      "x_shape: torch.Size([1, 10, 80, 64])\n",
      "[B,L,H,N]=(torch.Size([1, 10, 80]), 128)\n",
      "x_shape: torch.Size([1, 10, 80, 64])\n",
      "[B,L,H,N]=(torch.Size([1, 10, 80]), 128)\n",
      "x_shape: torch.Size([1, 10, 80, 64])\n",
      "[B,L,H,N]=(torch.Size([1, 10, 80]), 128)\n",
      "x_shape: torch.Size([1, 10, 80, 64])\n",
      "[B,L,H,N]=(torch.Size([1, 10, 80]), 128)\n",
      "prompt: How's it going? How are you today?\n",
      "output:  to the going?  's you??\n",
      "\n"
     ]
    },
    {
     "ename": "TypeError",
     "evalue": "expected Tensor as element 0 in argument 1, but got NoneType",
     "output_type": "error",
     "traceback": [
      "\u001b[0;31m---------------------------------------------------------------------------\u001b[0m",
      "\u001b[0;31mTypeError\u001b[0m                                 Traceback (most recent call last)",
      "Cell \u001b[0;32mIn[6], line 1\u001b[0m\n\u001b[0;32m----> 1\u001b[0m \u001b[43mvisualize_attn\u001b[49m\u001b[43m(\u001b[49m\u001b[38;5;124;43m\"\u001b[39;49m\u001b[38;5;124;43mHow\u001b[39;49m\u001b[38;5;124;43m'\u001b[39;49m\u001b[38;5;124;43ms it going? How are you today?\u001b[39;49m\u001b[38;5;124;43m\"\u001b[39;49m\u001b[43m)\u001b[49m\n\u001b[1;32m      2\u001b[0m visualize_attn(\u001b[38;5;124m\"\u001b[39m\u001b[38;5;124mMay the Force be with you\u001b[39m\u001b[38;5;124m\"\u001b[39m)\n",
      "Cell \u001b[0;32mIn[5], line 22\u001b[0m, in \u001b[0;36mvisualize_attn\u001b[0;34m(prompt, selected_layers)\u001b[0m\n\u001b[1;32m     20\u001b[0m \u001b[38;5;28;01mfor\u001b[39;00m i, layer \u001b[38;5;129;01min\u001b[39;00m \u001b[38;5;28menumerate\u001b[39m(selected_layers):\n\u001b[1;32m     21\u001b[0m     mat \u001b[38;5;241m=\u001b[39m model\u001b[38;5;241m.\u001b[39m_model\u001b[38;5;241m.\u001b[39mbackbone\u001b[38;5;241m.\u001b[39mlayers[layer]\u001b[38;5;241m.\u001b[39mmixer\u001b[38;5;241m.\u001b[39mattn_matrix\n\u001b[0;32m---> 22\u001b[0m     mat_avg \u001b[38;5;241m=\u001b[39m \u001b[43mtorch\u001b[49m\u001b[38;5;241;43m.\u001b[39;49m\u001b[43meinsum\u001b[49m\u001b[43m(\u001b[49m\u001b[38;5;124;43m\"\u001b[39;49m\u001b[38;5;124;43mbghls->ls\u001b[39;49m\u001b[38;5;124;43m\"\u001b[39;49m\u001b[43m,\u001b[49m\u001b[43m \u001b[49m\u001b[43mmat\u001b[49m\u001b[43m)\u001b[49m\n\u001b[1;32m     23\u001b[0m     matrix \u001b[38;5;241m=\u001b[39m mat_avg\u001b[38;5;241m.\u001b[39mcpu()\u001b[38;5;241m.\u001b[39mdetach()\u001b[38;5;241m.\u001b[39mnumpy()\n\u001b[1;32m     25\u001b[0m     \u001b[38;5;66;03m#plotting\u001b[39;00m\n",
      "File \u001b[0;32m~/miniforge3/envs/imb/lib/python3.10/site-packages/torch/functional.py:377\u001b[0m, in \u001b[0;36meinsum\u001b[0;34m(*args)\u001b[0m\n\u001b[1;32m    372\u001b[0m     \u001b[38;5;28;01mreturn\u001b[39;00m einsum(equation, \u001b[38;5;241m*\u001b[39m_operands)\n\u001b[1;32m    374\u001b[0m \u001b[38;5;28;01mif\u001b[39;00m \u001b[38;5;28mlen\u001b[39m(operands) \u001b[38;5;241m<\u001b[39m\u001b[38;5;241m=\u001b[39m \u001b[38;5;241m2\u001b[39m \u001b[38;5;129;01mor\u001b[39;00m \u001b[38;5;129;01mnot\u001b[39;00m opt_einsum\u001b[38;5;241m.\u001b[39menabled:\n\u001b[1;32m    375\u001b[0m     \u001b[38;5;66;03m# the path for contracting 0 or 1 time(s) is already optimized\u001b[39;00m\n\u001b[1;32m    376\u001b[0m     \u001b[38;5;66;03m# or the user has disabled using opt_einsum\u001b[39;00m\n\u001b[0;32m--> 377\u001b[0m     \u001b[38;5;28;01mreturn\u001b[39;00m \u001b[43m_VF\u001b[49m\u001b[38;5;241;43m.\u001b[39;49m\u001b[43meinsum\u001b[49m\u001b[43m(\u001b[49m\u001b[43mequation\u001b[49m\u001b[43m,\u001b[49m\u001b[43m \u001b[49m\u001b[43moperands\u001b[49m\u001b[43m)\u001b[49m  \u001b[38;5;66;03m# type: ignore[attr-defined]\u001b[39;00m\n\u001b[1;32m    379\u001b[0m path \u001b[38;5;241m=\u001b[39m \u001b[38;5;28;01mNone\u001b[39;00m\n\u001b[1;32m    380\u001b[0m \u001b[38;5;28;01mif\u001b[39;00m opt_einsum\u001b[38;5;241m.\u001b[39mis_available():\n",
      "\u001b[0;31mTypeError\u001b[0m: expected Tensor as element 0 in argument 1, but got NoneType"
     ]
    },
    {
     "data": {
      "image/png": "[encoded data removed]",
      "text/plain": [
       "<Figure size 1500x500 with 5 Axes>"
      ]
     },
     "metadata": {},
     "output_type": "display_data"
    }
   ],
   "source": [
    "visualize_attn(\"How's it going? How are you today?\")\n",
    "visualize_attn(\"May the Force be with you\")"
   ]
  },
  {
   "cell_type": "code",
   "execution_count": 11,
   "metadata": {},
   "outputs": [
    {
     "name": "stdout",
     "output_type": "stream",
     "text": [
      "MambaLMHeadModel(\n",
      "  (backbone): MixerModel(\n",
      "    (embedding): Embedding(50288, 2560)\n",
      "    (layers): ModuleList(\n",
      "      (0-63): 64 x Block(\n",
      "        (norm): RMSNorm()\n",
      "        (mixer): Mamba2(\n",
      "          (in_proj): Linear(in_features=2560, out_features=10576, bias=False)\n",
      "          (conv1d): Conv1d(5376, 5376, kernel_size=(4,), stride=(1,), padding=(3,), groups=5376)\n",
      "          (act): SiLU()\n",
      "          (norm): RMSNorm()\n",
      "          (out_proj): Linear(in_features=5120, out_features=2560, bias=False)\n",
      "        )\n",
      "      )\n",
      "    )\n",
      "    (norm_f): RMSNorm()\n",
      "  )\n",
      "  (lm_head): Linear(in_features=2560, out_features=50288, bias=False)\n",
      ")\n"
     ]
    }
   ],
   "source": [
    "print(model._model)"
   ]
  },
  {
   "cell_type": "code",
   "execution_count": 8,
   "metadata": {},
   "outputs": [
    {
     "ename": "AttributeError",
     "evalue": "'Mamba2' object has no attribute 'attn_mat'",
     "output_type": "error",
     "traceback": [
      "\u001b[0;31m---------------------------------------------------------------------------\u001b[0m",
      "\u001b[0;31mAttributeError\u001b[0m                            Traceback (most recent call last)",
      "Cell \u001b[0;32mIn[8], line 1\u001b[0m\n\u001b[0;32m----> 1\u001b[0m attn_mat \u001b[38;5;241m=\u001b[39m \u001b[43mmodel\u001b[49m\u001b[38;5;241;43m.\u001b[39;49m\u001b[43m_model\u001b[49m\u001b[38;5;241;43m.\u001b[39;49m\u001b[43mbackbone\u001b[49m\u001b[38;5;241;43m.\u001b[39;49m\u001b[43mlayers\u001b[49m\u001b[43m[\u001b[49m\u001b[43mselected_layer\u001b[49m\u001b[43m]\u001b[49m\u001b[38;5;241;43m.\u001b[39;49m\u001b[43mmixer\u001b[49m\u001b[38;5;241;43m.\u001b[39;49m\u001b[43mattn_mat\u001b[49m\n\u001b[1;32m      2\u001b[0m fig, axs \u001b[38;5;241m=\u001b[39m plt\u001b[38;5;241m.\u001b[39msubplots(\u001b[38;5;241m1\u001b[39m, \u001b[38;5;28mlen\u001b[39m(selected_chan), figsize\u001b[38;5;241m=\u001b[39m(\u001b[38;5;241m10\u001b[39m,\u001b[38;5;241m10\u001b[39m))\n\u001b[1;32m      3\u001b[0m \u001b[38;5;28;01mfor\u001b[39;00m i,c \u001b[38;5;129;01min\u001b[39;00m \u001b[38;5;28menumerate\u001b[39m(selected_chan):\n",
      "File \u001b[0;32m~/miniforge3/envs/imb/lib/python3.10/site-packages/torch/nn/modules/module.py:1695\u001b[0m, in \u001b[0;36mModule.__getattr__\u001b[0;34m(self, name)\u001b[0m\n\u001b[1;32m   1693\u001b[0m     \u001b[38;5;28;01mif\u001b[39;00m name \u001b[38;5;129;01min\u001b[39;00m modules:\n\u001b[1;32m   1694\u001b[0m         \u001b[38;5;28;01mreturn\u001b[39;00m modules[name]\n\u001b[0;32m-> 1695\u001b[0m \u001b[38;5;28;01mraise\u001b[39;00m \u001b[38;5;167;01mAttributeError\u001b[39;00m(\u001b[38;5;124mf\u001b[39m\u001b[38;5;124m\"\u001b[39m\u001b[38;5;124m'\u001b[39m\u001b[38;5;132;01m{\u001b[39;00m\u001b[38;5;28mtype\u001b[39m(\u001b[38;5;28mself\u001b[39m)\u001b[38;5;241m.\u001b[39m\u001b[38;5;18m__name__\u001b[39m\u001b[38;5;132;01m}\u001b[39;00m\u001b[38;5;124m'\u001b[39m\u001b[38;5;124m object has no attribute \u001b[39m\u001b[38;5;124m'\u001b[39m\u001b[38;5;132;01m{\u001b[39;00mname\u001b[38;5;132;01m}\u001b[39;00m\u001b[38;5;124m'\u001b[39m\u001b[38;5;124m\"\u001b[39m)\n",
      "\u001b[0;31mAttributeError\u001b[0m: 'Mamba2' object has no attribute 'attn_mat'"
     ]
    }
   ],
   "source": [
    "attn_mat = model._model.backbone.layers[selected_layer].mixer.attn_mat\n",
    "fig, axs = plt.subplots(1, len(selected_chan), figsize=(10,10))\n",
    "for i,c in enumerate(selected_chan):\n",
    "    curr_attn_mat = normalize_attn_mat(attn_mat[0,c,:,:].abs())\n",
    "    axs[i].imshow(curr_attn_mat.cpu().detach().numpy())\n",
    "    axs[i].axis('off')\n",
    "model._model.backbone.layers[selected_layer].mixer.compute_attn_matrix = False"
   ]
  },
  {
   "cell_type": "markdown",
   "metadata": {},
   "source": [
    "### Extraction of S6 Attention Matrices:"
   ]
  },
  {
   "cell_type": "code",
   "execution_count": 9,
   "metadata": {},
   "outputs": [
    {
     "data": {
      "image/png": "[encoded data removed]",
      "text/plain": [
       "<Figure size 1000x1000 with 7 Axes>"
      ]
     },
     "metadata": {},
     "output_type": "display_data"
    }
   ],
   "source": [
    "model._model.backbone.layers[selected_layer].mixer.compute_attn_matrix = True # mixer is a mamba block\n",
    "model._model.backbone.layers[selected_layer].mixer.old_attention = True\n",
    "model._model = model._model.cuda()\n",
    "out = model._model(input_tensor)\n",
    "attn_mat = model._model.backbone.layers[selected_layer].mixer.attn_mat # from mamba_inner_fn\n",
    "fig, axs = plt.subplots(1, len(selected_chan), figsize=(10,10))\n",
    "for i,c in enumerate(selected_chan):\n",
    "    curr_attn_mat = normalize_attn_mat(attn_mat[0,c,:,:].abs())\n",
    "    axs[i].imshow(curr_attn_mat.cpu().detach().numpy())\n",
    "    axs[i].axis('off')\n",
    "model._model.backbone.layers[selected_layer].mixer.compute_attn_matrix = False\n",
    "model._model.backbone.layers[selected_layer].mixer.old_attention = False"
   ]
  }
 ],
 "metadata": {
  "kernelspec": {
   "display_name": "imb",
   "language": "python",
   "name": "python3"
  },
  "language_info": {
   "codemirror_mode": {
    "name": "ipython",
    "version": 3
   },
   "file_extension": ".py",
   "mimetype": "text/x-python",
   "name": "python",
   "nbconvert_exporter": "python",
   "pygments_lexer": "ipython3",
   "version": "3.10.15"
  }
 },
 "nbformat": 4,
 "nbformat_minor": 4
}
